{
 "cells": [
  {
   "cell_type": "markdown",
   "id": "31a108ad",
   "metadata": {},
   "source": [
    "# IART Assignment 2 - Bank Account Fraud Dataset Suite (NeurIPS 2022)"
   ]
  },
  {
   "cell_type": "code",
   "execution_count": 1,
   "id": "8bc3c10c",
   "metadata": {},
   "outputs": [],
   "source": [
    "# Manipulaçaõ de dados\t\n",
    "import numpy as np   \n",
    "import pandas as pd \n",
    "\n",
    "# Visualização de dados\n",
    "import seaborn as sns  \n",
    "import matplotlib.pyplot as plt \n",
    "\n",
    "# Pré-processamento \n",
    "from sklearn.utils import resample, shuffle  \n",
    "from sklearn.model_selection import train_test_split   \n",
    "from sklearn.preprocessing import StandardScaler, LabelEncoder\n",
    "from sklearn.impute import SimpleImputer\n",
    "\n",
    "# Modelos de classificação\n",
    "from sklearn.ensemble import RandomForestRegressor \n",
    "from sklearn.neural_network import MLPClassifier  \n",
    "import lightgbm as lgbm \n",
    "\n",
    "# Métricas de avaliação\n",
    "from sklearn.metrics import (accuracy_score, precision_score, recall_score, \n",
    "                             f1_score, roc_auc_score, roc_curve, confusion_matrix)"
   ]
  },
  {
   "cell_type": "markdown",
   "id": "9ef96851",
   "metadata": {},
   "source": [
    "## Obter os dados do ficheiro csv"
   ]
  },
  {
   "cell_type": "code",
   "execution_count": 2,
   "id": "cf8a1b3c",
   "metadata": {},
   "outputs": [
    {
     "name": "stdout",
     "output_type": "stream",
     "text": [
      "Index(['fraud_bool', 'income', 'name_email_similarity',\n",
      "       'prev_address_months_count', 'current_address_months_count',\n",
      "       'customer_age', 'days_since_request', 'intended_balcon_amount',\n",
      "       'payment_type', 'zip_count_4w', 'velocity_6h', 'velocity_24h',\n",
      "       'velocity_4w', 'bank_branch_count_8w',\n",
      "       'date_of_birth_distinct_emails_4w', 'employment_status',\n",
      "       'credit_risk_score', 'email_is_free', 'housing_status',\n",
      "       'phone_home_valid', 'phone_mobile_valid', 'bank_months_count',\n",
      "       'has_other_cards', 'proposed_credit_limit', 'foreign_request', 'source',\n",
      "       'session_length_in_minutes', 'device_os', 'keep_alive_session',\n",
      "       'device_distinct_emails_8w', 'device_fraud_count', 'month'],\n",
      "      dtype='object')\n"
     ]
    }
   ],
   "source": [
    "data = pd.read_csv('data/Base.csv')\n",
    "\n",
    "print (data.columns)"
   ]
  },
  {
   "cell_type": "markdown",
   "id": "b2a84bbe",
   "metadata": {},
   "source": [
    "## Analisar os dados usando um diagrama de extremos e quartis e uma matriz de correlação\n",
    "\n",
    "O primeiro passo foi construir uma matriz de correlação para vermos que colunas poderiam ser retiradas, por serem semelhantes entre si pela forma como impactam a probabilidade ser uma fraude ou não."
   ]
  },
  {
   "cell_type": "code",
   "execution_count": null,
   "id": "433b5c65",
   "metadata": {},
   "outputs": [],
   "source": [
    "# Calcule a matriz de correlação\n",
    "correlation_matrix = train_data.corr()\n",
    "\n",
    "# Crie uma figura e um subplot\n",
    "fig, ax = plt.subplots(figsize=(10,10))\n",
    "\n",
    "# Desenhe a matriz de correlação usando o método matshow do Matplotlib\n",
    "im = ax.matshow(correlation_matrix, cmap='coolwarm')\n",
    "\n",
    "# Adicione uma barra de cores para mostrar os valores da matriz de correlação\n",
    "fig.colorbar(im)\n",
    "\n",
    "# Defina os locais dos ticks e os rótulos dos eixos\n",
    "ax.set_xticks(range(len(train_data.columns)))\n",
    "ax.set_yticks(range(len(train_data.columns)))\n",
    "ax.set_xticklabels(train_data.columns, rotation=90)\n",
    "ax.set_yticklabels(train_data.columns)\n",
    "\n",
    "# Configure o título do gráfico\n",
    "plt.title('Matriz de Correlação')\n",
    "\n",
    "# Mostre o gráfico\n",
    "plt.show()"
   ]
  },
  {
   "cell_type": "code",
   "execution_count": null,
   "id": "b97047fc",
   "metadata": {},
   "outputs": [],
   "source": [
    "biggest = []\n",
    "\n",
    "for i, column1 in enumerate(train_data.columns):\n",
    "    for column2 in train_data.columns:\n",
    "        if column1 != column2:\n",
    "            biggest.append( (abs(correlation_matrix[column1][column2]), column1) )\n",
    "            \n",
    "biggest = sorted(biggest, reverse=True)\n",
    "\n",
    "print(biggest[:10])\n",
    "\n"
   ]
  },
  {
   "cell_type": "markdown",
   "id": "c473b39a",
   "metadata": {},
   "source": [
    "Como podemos observar no output do código acima e pela matriz de correlação, as colunas referentes à velocidade (que indicam o número médio de candidaturas por hora num determinado intervalo de tempo) têm todas um impacto bastante semelhante, pelo que é sensato removê-las, mantendo apenas uma delas.\n",
    "\n",
    "Após esta análise, decidimos desenhar um gráfico que relaciona-se a matriz de correlação com a coluna fraud_bool, o que nos permitiria verificar quais as colunas que têm mais e menos impacto sobre o resultado."
   ]
  },
  {
   "cell_type": "code",
   "execution_count": null,
   "id": "0704ebb4",
   "metadata": {},
   "outputs": [],
   "source": [
    "correlation_matrix = train_data.corr()['fraud_bool']\n",
    "\n",
    "# Crie um gráfico de barras para mostrar os valores da matriz de correlação\n",
    "correlation_matrix.plot(kind='bar', figsize=(10,10))\n",
    "\n",
    "# Configure o título do gráfico\n",
    "plt.title('Matriz de Correlação em Relação à Coluna \"fraud_bool\"')\n",
    "\n",
    "# Mostre o gráfico\n",
    "plt.show()"
   ]
  },
  {
   "cell_type": "markdown",
   "id": "2c5cdf7a",
   "metadata": {},
   "source": [
    "Podemos observar pelo gráfico que há várias colunas com pouco impacto que podem ser removidas, como a days_since_request, que representa o número de dias desde que a candidatura foi realizada, e a bank_months_count, que representa o quão antiga é a anterior conta do aplicando, se esta existir, em meses."
   ]
  },
  {
   "cell_type": "markdown",
   "id": "5bd4652b",
   "metadata": {},
   "source": [
    "## Seleção das features"
   ]
  },
  {
   "cell_type": "markdown",
   "id": "b4d53792",
   "metadata": {},
   "source": [
    "Depois de analisarmos que colunas poderiam ser removidas e quais as mais importantes, decidimos selecionar as presentes na lista features:"
   ]
  },
  {
   "cell_type": "code",
   "execution_count": 3,
   "id": "bdaae00a",
   "metadata": {},
   "outputs": [],
   "source": [
    "features = ['income', 'name_email_similarity',\n",
    "       'prev_address_months_count', 'current_address_months_count',\n",
    "       'customer_age', 'intended_balcon_amount',\n",
    "       'date_of_birth_distinct_emails_4w',\n",
    "       'credit_risk_score', 'email_is_free',\n",
    "       'phone_home_valid', 'phone_mobile_valid',\n",
    "       'has_other_cards', 'proposed_credit_limit', 'foreign_request', \n",
    "       'session_length_in_minutes', 'keep_alive_session',\n",
    "       'device_distinct_emails_8w', 'month']\n",
    "\n",
    "\n",
    "category_features = [\"payment_type\", \"employment_status\", \"housing_status\", \"source\", \"device_os\"]\n",
    "\n",
    "target = 'fraud_bool'"
   ]
  },
  {
   "cell_type": "markdown",
   "id": "b270fb52",
   "metadata": {},
   "source": [
    "## Separação dos dados de teste e de treino"
   ]
  },
  {
   "cell_type": "markdown",
   "id": "8c110655",
   "metadata": {},
   "source": [
    "Para podermos realizar a análise aos dados, precisamos de uma amostra de dados de treino e uma amostra de dados de teste, sendo o treino 70% dos dados e o teste os restantes 30%. Também igualamos o número de amostras com fraude e sem fraude."
   ]
  },
  {
   "cell_type": "code",
   "execution_count": 4,
   "id": "aa47688f",
   "metadata": {},
   "outputs": [
    {
     "name": "stdout",
     "output_type": "stream",
     "text": [
      "296758\n",
      "(593516, 32)\n"
     ]
    },
    {
     "data": {
      "image/png": "[encoded data removed]",
      "text/plain": [
       "<Figure size 432x288 with 1 Axes>"
      ]
     },
     "metadata": {
      "needs_background": "light"
     },
     "output_type": "display_data"
    },
    {
     "name": "stdout",
     "output_type": "stream",
     "text": [
      "Frauds 296758 \n",
      "\n",
      "No Frauds 296758 \n",
      "\n"
     ]
    }
   ],
   "source": [
    "\n",
    "from sklearn.model_selection import train_test_split\n",
    "from sklearn.utils import resample\n",
    "from sklearn.utils import shuffle\n",
    "import seaborn as sns\n",
    "import matplotlib.pyplot as plt\n",
    "\n",
    "# separa os dados em treino e teste\n",
    "\n",
    "# Separar as features e o target\n",
    "X = data.drop(columns=['fraud_bool'])\n",
    "y = data['fraud_bool']\n",
    "\n",
    "# Separar em conjunto de treino e teste\n",
    "X_train, X_test, y_train, y_test = train_test_split(X, y, test_size=0.3, random_state=42)\n",
    "\n",
    "# Juntar os dados de treino\n",
    "train_data = pd.concat([X_train, y_train], axis=1)\n",
    "\n",
    "# Separar exemplos das duas classes\n",
    "fraud = train_data[train_data['fraud_bool'] == 1]\n",
    "not_fraud = train_data[train_data['fraud_bool'] == 0]\n",
    "\n",
    "# Aumentar o número de exemplos da classe minoritaria\n",
    "n_samples = len(not_fraud)\n",
    "print(n_samples)\n",
    "fraud_upsampled = resample(fraud,\n",
    "                                 replace=True,\n",
    "                                 n_samples=n_samples,\n",
    "                                 random_state=42)\n",
    "\n",
    "# Juntar as duas classes novamente\n",
    "train_data_upsampled = pd.concat([not_fraud, fraud_upsampled])\n",
    "print(train_data_upsampled.shape)\n",
    "\n",
    "# Embaralhar os dados\n",
    "train_data_upsampled = shuffle(train_data_upsampled, random_state=42)\n",
    "\n",
    "\n",
    "\n",
    "train_data = train_data_upsampled\n",
    "test_data = pd.concat([X_test, y_test], axis=1)\n",
    "\n",
    "\n",
    "\n",
    "sns.histplot(data=train_data, x='fraud_bool', kde=False)\n",
    "plt.show()\n",
    "\n",
    "print(\"Frauds\" , len(train_data[train_data['fraud_bool'] == 1]), \"\\n\")\n",
    "print(\"No Frauds\" , len(train_data[train_data['fraud_bool'] == 0]), \"\\n\")\n",
    "\n"
   ]
  },
  {
   "cell_type": "markdown",
   "id": "e8a928a3",
   "metadata": {},
   "source": [
    "## Pré-processamento dos dados"
   ]
  },
  {
   "cell_type": "code",
   "execution_count": 5,
   "id": "66c80eb7",
   "metadata": {},
   "outputs": [
    {
     "name": "stdout",
     "output_type": "stream",
     "text": [
      "['income', 'name_email_similarity', 'current_address_months_count', 'customer_age', 'intended_balcon_amount', 'date_of_birth_distinct_emails_4w', 'credit_risk_score', 'email_is_free', 'phone_home_valid', 'phone_mobile_valid', 'has_other_cards', 'proposed_credit_limit', 'foreign_request', 'session_length_in_minutes', 'keep_alive_session', 'device_distinct_emails_8w', 'month', 'AA', 'AB', 'AC', 'AD', 'AE', 'linux', 'macintosh', 'other', 'windows', 'x11', 'CA', 'CB', 'CC', 'CD', 'CE', 'CF', 'CG', 'BA', 'BB', 'BC', 'BD', 'BE', 'BF', 'BG', 'INTERNET', 'TELEAPP']\n"
     ]
    }
   ],
   "source": [
    "# Creating a instance of label Encoder.\n",
    "le = LabelEncoder()\n",
    " \n",
    "# Using .fit_transform function to fit label\n",
    "# encoder and return encoded label\n",
    "#train_data['device_os'] = le.fit_transform(train_data['device_os'])\n",
    "#test_data['device_os'] = le.fit_transform(test_data['device_os'])\n",
    "\n",
    "new_features = []\n",
    "\n",
    "for column in [\"payment_type\", \"device_os\", \"employment_status\", \"housing_status\", \"source\"]:\n",
    "    train_device_os = pd.get_dummies(train_data[column])\n",
    "\n",
    "    train_device_os.columns = [ str(n) for n in train_device_os.columns]\n",
    "\n",
    "    train_data = pd.concat((train_device_os, train_data), axis=1)\n",
    "    train_data.drop(columns=[column], inplace=True)\n",
    "\n",
    "\n",
    "    test_device_os = pd.get_dummies(test_data[column])\n",
    "\n",
    "    test_device_os.columns = [ str(n) for n in train_device_os.columns]\n",
    "\n",
    "\n",
    "    test_data = pd.concat((test_device_os, test_data), axis=1)\n",
    "\n",
    "    test_data.drop(columns=[column], inplace=True)\n",
    "\n",
    "    new_features += [ str(n) for n in train_device_os.columns]\n",
    "\n",
    "# substitui os valores -1 por NaN\n",
    "#features.remove('prev_address_months_count')\n",
    "#train_data['prev_address_months_count'] = train_data['prev_address_months_count'].replace(-1, np.NaN)\n",
    "#test_data['prev_address_months_count'] = test_data['prev_address_months_count'].replace(-1, np.NaN)\n",
    "#test_data[features] = test_data[features].replace(-1, np.NaN)\n",
    "\n",
    "imputer = SimpleImputer(strategy='median')\n",
    "train_data[features] = imputer.fit_transform(train_data[features])\n",
    "test_data[features] = imputer.transform(test_data[features])\n",
    "\n",
    "\n",
    "features += new_features\n",
    "\n",
    "print(features)"
   ]
  },
  {
   "cell_type": "code",
   "execution_count": null,
   "id": "be9687f9",
   "metadata": {},
   "outputs": [],
   "source": [
    "train_data['prev_address_months_count'].head(20) "
   ]
  },
  {
   "cell_type": "code",
   "execution_count": 6,
   "id": "ce851945",
   "metadata": {},
   "outputs": [
    {
     "name": "stderr",
     "output_type": "stream",
     "text": [
      "C:\\Users\\afons\\AppData\\Local\\Temp/ipykernel_16264/904962128.py:21: SettingWithCopyWarning: \n",
      "A value is trying to be set on a copy of a slice from a DataFrame.\n",
      "Try using .loc[row_indexer,col_indexer] = value instead\n",
      "\n",
      "See the caveats in the documentation: https://pandas.pydata.org/pandas-docs/stable/user_guide/indexing.html#returning-a-view-versus-a-copy\n",
      "  train_data_missing[column] = predicted_values\n",
      "C:\\Users\\afons\\AppData\\Local\\Temp/ipykernel_16264/904962128.py:36: SettingWithCopyWarning: \n",
      "A value is trying to be set on a copy of a slice from a DataFrame.\n",
      "Try using .loc[row_indexer,col_indexer] = value instead\n",
      "\n",
      "See the caveats in the documentation: https://pandas.pydata.org/pandas-docs/stable/user_guide/indexing.html#returning-a-view-versus-a-copy\n",
      "  test_data_missing[column] = predicted_values\n"
     ]
    }
   ],
   "source": [
    "\n",
    "for column in ['prev_address_months_count', 'bank_months_count']:\n",
    "\n",
    "    # Split dataset into two parts: one with missing values and one without\n",
    "    train_data_missing = train_data[train_data[column] == -1]\n",
    "    train_data_not_missing = train_data[train_data[column] != -1]\n",
    "\n",
    "\n",
    "    # Create a machine learning model\n",
    "    model = lgbm.LGBMRegressor()\n",
    "\n",
    "    # Train the model on rows without missing values\n",
    "    model.fit(train_data_not_missing.drop([column, target], axis=1), train_data_not_missing[column])\n",
    "\n",
    "\n",
    "    ## alterar para train_data\n",
    "\n",
    "    # Use the model to predict missing values\n",
    "    predicted_values = model.predict(train_data_missing.drop([column, target], axis=1))\n",
    "\n",
    "    # Fill in missing values with predicted values\n",
    "    train_data_missing[column] = predicted_values\n",
    "\n",
    "    # Combine the two parts of the dataset\n",
    "    train_data = pd.concat([train_data_not_missing, train_data_missing])\n",
    "\n",
    "\n",
    "    ## alterar para test_data\n",
    "\n",
    "    test_data_missing = test_data[test_data[column] == -1]\n",
    "    test_data_not_missing = test_data[test_data[column] != -1]\n",
    "\n",
    "    # Use the model to predict missing values\n",
    "    predicted_values = model.predict(test_data_missing.drop([column, target], axis=1))\n",
    "\n",
    "    # Fill in missing values with predicted values\n",
    "    test_data_missing[column] = predicted_values\n",
    "\n",
    "    # Combine the two parts of the dataset\n",
    "    test_data = pd.concat([test_data_not_missing, test_data_missing])\n"
   ]
  },
  {
   "cell_type": "code",
   "execution_count": 6,
   "id": "2eb44528",
   "metadata": {},
   "outputs": [],
   "source": [
    "# remove as colunas que não serão usadas\n",
    "remove_cols = ['TELEAPP', 'BA']\n",
    "\n",
    "train_data.drop(columns=remove_cols, inplace=True)\n",
    "test_data.drop(columns=remove_cols, inplace=True)\n",
    "\n",
    "features = [f for f in features if f not in remove_cols]\n"
   ]
  },
  {
   "cell_type": "markdown",
   "id": "26540830",
   "metadata": {},
   "source": [
    "## Treinar os Modelos"
   ]
  },
  {
   "cell_type": "code",
   "execution_count": null,
   "id": "e1279551",
   "metadata": {},
   "outputs": [],
   "source": [
    "import xgboost as xgb\n",
    "\n",
    "xgb_classifier = xgb.XGBClassifier()\n",
    "\n",
    "xgb_classifier.fit(train_data[features], train_data[target])\n",
    "\n",
    "\n",
    "prob_predictions = xgb_classifier.predict_proba(test_data[features])"
   ]
  },
  {
   "cell_type": "code",
   "execution_count": null,
   "id": "7080c7e8",
   "metadata": {},
   "outputs": [],
   "source": [
    "print()"
   ]
  },
  {
   "cell_type": "code",
   "execution_count": null,
   "id": "d750fa0d",
   "metadata": {},
   "outputs": [],
   "source": [
    "\n",
    "FIXED_FPR = 0.05\n",
    "\n",
    "dados = []\n",
    "\n",
    "for i in range(1, 20):\n",
    "    dados.append([])\n",
    "    for j in range(1, 20):\n",
    "        \n",
    "        neural_network = MLPClassifier(hidden_layer_sizes=(i, j), max_iter=1000, random_state=42)\n",
    "\n",
    "        neural_network.fit(train_data[features], train_data[target])\n",
    "        # Calculando a probabilidade de previsão do modelo\n",
    "        prob_predictions = neural_network.predict_proba(test_data[features])\n",
    "        \n",
    "        prob = prob_predictions[:,1]\n",
    "\n",
    "        fprs, tprs, thresholds = roc_curve(test_data[target], prob)\n",
    "        tp = tprs[fprs<FIXED_FPR][-1]\n",
    "        fp = fprs[fprs<FIXED_FPR][-1]\n",
    "        threshold = thresholds[fprs<FIXED_FPR][-1]\n",
    "        print(i , ' ', j, tp)\n",
    "        dados[i-1].append(tp)\n",
    "\n",
    "\n"
   ]
  },
  {
   "cell_type": "code",
   "execution_count": null,
   "id": "c010e0b9",
   "metadata": {},
   "outputs": [],
   "source": [
    "from sklearn import svm\n",
    "\n",
    "\n",
    "# Criando e treinando o SVM\n",
    "clf = svm.SVC(kernel='rbf', C=1, gamma='auto', probability=True, verbose=True)\n",
    "clf.fit(train_data[features], train_data[target])\n",
    "\n",
    " \n",
    "prob_predictions = clf.predict_proba(test_data[features])"
   ]
  },
  {
   "cell_type": "code",
   "execution_count": null,
   "id": "135e0e1d",
   "metadata": {},
   "outputs": [],
   "source": [
    "# treinar o modelo\n",
    "\n",
    "from sklearn.tree import DecisionTreeClassifier\n",
    "\n",
    "\n",
    "# Cria um objeto de árvore de decisão\n",
    "tree = DecisionTreeClassifier()\n",
    "\n",
    "# Treina a árvore de decisão\n",
    "tree.fit(train_data[features], train_data[target])\n",
    "\n",
    "prob_predictions = tree.predict_proba(test_data[features])\n",
    "\n"
   ]
  },
  {
   "cell_type": "code",
   "execution_count": null,
   "id": "8e15f8e2",
   "metadata": {},
   "outputs": [],
   "source": [
    "from sklearn.neighbors import KNeighborsClassifier\n",
    "\n",
    "neigh = KNeighborsClassifier(n_neighbors=5)\n",
    "\n",
    "neigh.fit(train_data[features], train_data[target])\n",
    "\n",
    "prob_predictions = neigh.predict_proba(test_data[features])"
   ]
  },
  {
   "cell_type": "code",
   "execution_count": 18,
   "id": "1536b441",
   "metadata": {},
   "outputs": [],
   "source": [
    "from sklearn.neural_network import MLPClassifier\n",
    "\n",
    "lbm_prob_predictions = prob_predictions.copy()\n",
    "\n",
    "\n",
    "\n",
    "neural_network = MLPClassifier(hidden_layer_sizes=(15, 15), max_iter=1000, random_state=42)\n",
    "\n",
    "neural_network.fit(train_data[features], train_data[target])\n",
    "# Calculando a probabilidade de previsão do modelo\n",
    "prob_predictions = neural_network.predict_proba(test_data[features])\n",
    "\n",
    "neural_predictions = prob_predictions"
   ]
  },
  {
   "cell_type": "code",
   "execution_count": 7,
   "id": "959522cd",
   "metadata": {},
   "outputs": [],
   "source": [
    "\n",
    "\n",
    "lgbm_classifier = lgbm.LGBMClassifier()\n",
    "\n",
    "lgbm_classifier.fit(train_data[features], train_data[target])\n",
    "\n",
    "prob_predictions = lgbm_classifier.predict_proba(test_data[features])\n",
    "\n",
    "\n"
   ]
  },
  {
   "cell_type": "code",
   "execution_count": null,
   "id": "ee2bb5b5",
   "metadata": {},
   "outputs": [],
   "source": [
    "# train random forest\n",
    "from sklearn.ensemble import RandomForestClassifier\n",
    "\n",
    "random_forest = RandomForestClassifier(n_estimators=100, random_state=42)\n",
    "\n",
    "random_forest.fit(train_data[features], train_data[target])\n",
    "\n",
    "prob_predictions = random_forest.predict_proba(test_data[features])\n",
    "\n"
   ]
  },
  {
   "cell_type": "code",
   "execution_count": null,
   "id": "ba914a3a",
   "metadata": {},
   "outputs": [],
   "source": []
  },
  {
   "cell_type": "markdown",
   "id": "68ce3623",
   "metadata": {},
   "source": [
    "## Avaliar"
   ]
  },
  {
   "cell_type": "code",
   "execution_count": null,
   "id": "879987bf",
   "metadata": {},
   "outputs": [],
   "source": [
    "#prob_predictions = predictions\n",
    "# set FPR Error\n",
    "FIXED_FPR = 0.05\n",
    "\n",
    "# Fazendo previsões no conjunto de teste\n",
    "#predictions = clf.predict(test_data[features])"
   ]
  },
  {
   "cell_type": "code",
   "execution_count": null,
   "id": "401ed5f5",
   "metadata": {},
   "outputs": [],
   "source": [
    "\n",
    "# Avalia o modelo\n",
    "best_f1 = 0\n",
    "\n",
    "acceptance_rate_list = [x/100.0 for x in range(0, 100, 5)]\n",
    "f1_list = []\n",
    "\n",
    "for acceptance_rate in acceptance_rate_list:\n",
    "    predictions = np.where(prob_predictions[:,1] > acceptance_rate, 1, 0)\n",
    "\n",
    "    # Avalia o modelo\n",
    "\n",
    "    accuracy = accuracy_score(test_data[target], predictions)\n",
    "    precision = precision_score(test_data[target], predictions)\n",
    "    recall = recall_score(test_data[target], predictions)\n",
    "    f1 = f1_score(test_data[target], predictions)\n",
    "    f1_list.append(f1)\n",
    "\n",
    "    \n",
    "    if f1 > best_f1:\n",
    "        best_f1 = f1\n",
    "        best_acceptance_rate = acceptance_rate\n",
    "\n",
    "\n",
    "predictions = np.where(prob_predictions[:,1] > best_acceptance_rate, 1, 0)\n",
    "\n",
    "\n",
    "print(f1_list)\n",
    "\n",
    "# mostrar a curva ROC\n",
    "plt.plot(acceptance_rate_list ,f1_list ), \n",
    "plt.ylabel('F1 Score')\n",
    "plt.xlabel(\"Acceptance Rate \")\n",
    "plt.show()\n",
    "print('Best acceptance rate:', best_acceptance_rate)\n",
    "\n",
    "accuracy = accuracy_score(test_data[target], predictions)\n",
    "precision = precision_score(test_data[target], predictions)\n",
    "recall = recall_score(test_data[target], predictions)\n",
    "f1 = f1_score(test_data[target], predictions)\n",
    "print('Accuracy:', accuracy)\n",
    "print('Precision:', precision)\n",
    "print('Recall:', recall)\n",
    "print('F1 score:', f1)\n"
   ]
  },
  {
   "cell_type": "code",
   "execution_count": null,
   "id": "5faf9b9d",
   "metadata": {},
   "outputs": [],
   "source": [
    "print(confusion_matrix(test_data[target], y_pred).ravel())\n",
    "print(sum(confusion_matrix(test_data[target], y_pred).ravel()))"
   ]
  },
  {
   "cell_type": "code",
   "execution_count": 8,
   "id": "92937707",
   "metadata": {},
   "outputs": [
    {
     "name": "stdout",
     "output_type": "stream",
     "text": [
      "AUC: 0.8810365094620565\n",
      "TPR(Recall): 0.5206112752022601\n",
      "FPR: 0.0499889484883988\n",
      "Threshold: 0.763943479607606\n",
      "Predictive Equality: 0.10487104534754378\n",
      "\n",
      "True Negatives: 657610\n",
      "False Positives: 34603\n",
      "False Negatives: 3733\n",
      "True Positives: 4054\n",
      "F1 score: 0.1745758332615623\n"
     ]
    },
    {
     "data": {
      "image/png": "[encoded data removed]",
      "text/plain": [
       "<Figure size 432x288 with 1 Axes>"
      ]
     },
     "metadata": {
      "needs_background": "light"
     },
     "output_type": "display_data"
    }
   ],
   "source": [
    "\n",
    "\n",
    "FIXED_FPR = 0.05\n",
    "\n",
    "prob = prob_predictions[:,1]\n",
    "\n",
    "# Calculando AUC\n",
    "auc = roc_auc_score(test_data[target], prob)\n",
    "print('AUC:', auc)\n",
    "\n",
    "# Calculando a curva ROC e obtendo TPR, FPR e Threshold\n",
    "fprs, tprs, thresholds = roc_curve(test_data[target], prob)\n",
    "tp_percentage = tprs[fprs<FIXED_FPR][-1]\n",
    "fp_percentage = fprs[fprs<FIXED_FPR][-1]\n",
    "threshold = thresholds[fprs<FIXED_FPR][-1]\n",
    "\n",
    "\n",
    "\n",
    "# Calculando a matriz de confusão\n",
    "y_pred = (prob >= threshold).astype(int)\n",
    "tn, fp, fn, tp = confusion_matrix(test_data[target], y_pred).ravel()\n",
    "\n",
    "\n",
    "# Calculando a equidade preditiva\n",
    "predictive_equality = tp / (tp + fp) \n",
    "print('TPR(Recall):', tp_percentage )\n",
    "print('FPR:', fp_percentage)\n",
    "print('Threshold:', threshold)\n",
    "print('Predictive Equality:', predictive_equality)\n",
    "\n",
    "print()\n",
    "\n",
    "print('True Negatives:', tn)\n",
    "print('False Positives:', fp)\n",
    "print('False Negatives:', fn)\n",
    "print('True Positives:', tp)\n",
    "\n",
    "predictions = np.where(prob_predictions[:,1] >= threshold, 1, 0)\n",
    "\n",
    "f1 = f1_score(test_data[target], predictions)\n",
    "print('F1 score:', f1)\n",
    "\n",
    "# mostrar a curva ROC\n",
    "plt.plot(fprs,tprs)\n",
    "plt.ylabel('True Positive Rate')\n",
    "plt.xlabel('False Positive Rate')\n",
    "plt.show()\n",
    "\n"
   ]
  },
  {
   "cell_type": "markdown",
   "id": "c182ae8d",
   "metadata": {},
   "source": [
    "# Esquece isto para baixo"
   ]
  },
  {
   "cell_type": "code",
   "execution_count": null,
   "id": "a4e3bee4",
   "metadata": {},
   "outputs": [],
   "source": [
    "\n",
    "\n",
    "features = [\"income\"]\n",
    "\n",
    "# para padronizar os dados\n",
    "scaler = StandardScaler()\n",
    "data[features] = scaler.fit_transform(data[features])\n",
    "data[features] = scaler.transform(data[features])\n",
    "\n",
    "feature = [\"customer_age\"]\n",
    "data[features] = scaler.fit_transform(data[features])\n",
    "data[features] = scaler.transform(data[features])\n",
    "\n",
    "\n",
    "\n",
    "sns.catplot(data=data, x=\"customer_age\", y=\"income\", hue=\"fraud_bool\",  kind=\"box\")\n",
    "\n",
    "plt.show()\n"
   ]
  },
  {
   "cell_type": "code",
   "execution_count": null,
   "id": "cbdbf940",
   "metadata": {},
   "outputs": [],
   "source": [
    "import seaborn as sns\n",
    "import matplotlib.pyplot as plt\n",
    "\n",
    "# Use the displot method to create a histogram with kernel density estimate\n",
    "\n",
    "for column in train_data.columns:\n",
    "    if column != 'fraud_bool':\n",
    "        sns.displot(data=train_data, x=column, hue='fraud_bool', kind='kde')\n",
    "        plt.show()\n",
    "\n"
   ]
  },
  {
   "cell_type": "markdown",
   "id": "a5c0879f",
   "metadata": {},
   "source": [
    "\n",
    "Ao analizar os dados verificamos que estes tem problemas :\n",
    "prev_address_months_count - ines\n",
    "\n",
    "current_address_months_count - joao\n",
    "\n",
    "days_since_request - afonso\n",
    "\n",
    "intended_balcon_amount -\n",
    "\n",
    "payment_type -"
   ]
  },
  {
   "cell_type": "code",
   "execution_count": null,
   "id": "49d587dd",
   "metadata": {},
   "outputs": [],
   "source": [
    "#Afonso\n",
    "\n",
    "data.columns\n",
    "\n",
    "# substituir os valores -1 por valores ausentes (NA)\n",
    "data_filtered = data.loc[data['days_since_request'] > 1]\n",
    "\n",
    "# remover as linhas que contêm valores NA\n",
    "\n",
    "data_filtered[['fraud_bool', 'days_since_request']].cov()\n",
    "\n"
   ]
  },
  {
   "cell_type": "code",
   "execution_count": null,
   "id": "45080912",
   "metadata": {},
   "outputs": [],
   "source": [
    "\n",
    "import pandas as pd\n",
    "from sklearn.tree import DecisionTreeClassifier, plot_tree\n",
    "import matplotlib.pyplot as plt\n",
    "\n",
    "\n",
    "print(data.columns)\n",
    "\n",
    "# Extrai as features e o target do DataFrame\n",
    "X = data.drop(columns=[\"fraud_bool\", \"payment_type\", \"employment_status\", \"housing_status\", \"source\", \"device_os\"])\n",
    "y = data[\"fraud_bool\"]\n",
    "\n",
    "# Cria um objeto de árvore de decisão\n",
    "tree = DecisionTreeClassifier()\n",
    "\n",
    "# Treina a árvore de decisão\n",
    "tree.fit(X, y)\n",
    "\n",
    "\n"
   ]
  },
  {
   "cell_type": "code",
   "execution_count": null,
   "id": "54417ab9",
   "metadata": {},
   "outputs": [],
   "source": [
    "\n",
    "# Calcula a acurácia do modelo\n",
    "print(\"Acurácia do modelo: {:.2f}\".format(tree.score(X, y)))"
   ]
  },
  {
   "cell_type": "code",
   "execution_count": null,
   "id": "47fdbb54",
   "metadata": {},
   "outputs": [],
   "source": []
  }
 ],
 "metadata": {
  "kernelspec": {
   "display_name": "Python 3 (ipykernel)",
   "language": "python",
   "name": "python3"
  },
  "language_info": {
   "codemirror_mode": {
    "name": "ipython",
    "version": 3
   },
   "file_extension": ".py",
   "mimetype": "text/x-python",
   "name": "python",
   "nbconvert_exporter": "python",
   "pygments_lexer": "ipython3",
   "version": "3.9.13"
  }
 },
 "nbformat": 4,
 "nbformat_minor": 5
}
